{
  "nbformat": 4,
  "nbformat_minor": 0,
  "metadata": {
    "colab": {
      "provenance": [],
      "collapsed_sections": [
        "QZTURd-nLoR0"
      ],
      "authorship_tag": "ABX9TyNQQIC5QedJOVZVfnQiKnzJ",
      "include_colab_link": true
    },
    "kernelspec": {
      "name": "python3",
      "display_name": "Python 3"
    },
    "language_info": {
      "name": "python"
    }
  },
  "cells": [
    {
      "cell_type": "markdown",
      "metadata": {
        "id": "view-in-github",
        "colab_type": "text"
      },
      "source": [
        "<a href=\"https://colab.research.google.com/github/MartsenkoVS/Kyokushinkai_audio_classification/blob/main/Audio_inference.ipynb\" target=\"_parent\"><img src=\"https://colab.research.google.com/assets/colab-badge.svg\" alt=\"Open In Colab\"/></a>"
      ]
    },
    {
      "cell_type": "markdown",
      "source": [
        "# Импорт библиотек"
      ],
      "metadata": {
        "id": "QZTURd-nLoR0"
      }
    },
    {
      "cell_type": "code",
      "source": [
        "%%capture\n",
        "!pip install sounddevice\n",
        "!sudo apt-get install libportaudio2"
      ],
      "metadata": {
        "id": "MOwIsybJaYK0"
      },
      "execution_count": null,
      "outputs": []
    },
    {
      "cell_type": "code",
      "source": [
        "import os\n",
        "import librosa\n",
        "import numpy as np\n",
        "from sklearn.preprocessing import StandardScaler\n",
        "from tensorflow.keras.models import load_model\n",
        "import pickle\n",
        "import sounddevice as sd\n",
        "import soundfile as sf\n",
        "from IPython.display import Audio"
      ],
      "metadata": {
        "id": "dwP8rf6g0IU8"
      },
      "execution_count": null,
      "outputs": []
    },
    {
      "cell_type": "code",
      "source": [
        "from google.colab import drive\n",
        "drive.mount('/content/drive')"
      ],
      "metadata": {
        "colab": {
          "base_uri": "https://localhost:8080/"
        },
        "id": "kJGgByVdwfQG",
        "outputId": "b5aa4c81-b186-44ef-f207-3facea11aa9e"
      },
      "execution_count": null,
      "outputs": [
        {
          "output_type": "stream",
          "name": "stdout",
          "text": [
            "Mounted at /content/drive\n"
          ]
        }
      ]
    },
    {
      "cell_type": "markdown",
      "metadata": {
        "id": "whnouvpcxxQn"
      },
      "source": [
        "# Обработка аудиодорожки для передачи в модель:"
      ]
    },
    {
      "cell_type": "code",
      "execution_count": null,
      "metadata": {
        "id": "fpiREniKXBj_"
      },
      "outputs": [],
      "source": [
        "labels_list = ['hadgime', 'kato1', 'kato2', 'kato3', 'kato4', 'kiai', 'naure', 'oss']"
      ]
    },
    {
      "cell_type": "code",
      "source": [
        "# Загрузка обученной модели\n",
        "model = load_model('/content/drive/MyDrive/Стажировка \"Кёкусинкай\"/models/best_model_librosa.h5')\n",
        "\n",
        "# Загрузка параметров нормализации\n",
        "with open('/content/drive/MyDrive/Стажировка \"Кёкусинкай\"/models/scaler.pkl', 'rb') as file:\n",
        "    scaler = pickle.load(file)"
      ],
      "metadata": {
        "id": "xbNRY6R1OBCS"
      },
      "execution_count": null,
      "outputs": []
    },
    {
      "cell_type": "code",
      "execution_count": null,
      "metadata": {
        "id": "AtwrbJbN4mIJ"
      },
      "outputs": [],
      "source": [
        "# Функция для вывода результата предикта модели:\n",
        "def model_predict(x_test, labels_list, model):\n",
        "  predict = model.predict(x_test, verbose=0)\n",
        "\n",
        "  pred_index = np.argmax(predict, axis=1)\n",
        "  y_pred = labels_list[pred_index[0]]\n",
        "  predicted_class_confidence = predict[0][pred_index[0]]\n",
        "\n",
        "  return y_pred, predicted_class_confidence"
      ]
    },
    {
      "cell_type": "code",
      "source": [
        "# Извлечение признаков из аудио\n",
        "def extract_features_librosa(normalized_data, sr, scaler):\n",
        "  x_test = []\n",
        "\n",
        "  # Подрезка тишины в аудио\n",
        "  audio, _ = librosa.effects.trim(normalized_data, top_db=20)\n",
        "\n",
        "  # Извлечение MFCC\n",
        "  mfccs = librosa.feature.mfcc(y=audio, sr=sr, n_mfcc=40)\n",
        "  mfccs_mean = np.mean(mfccs, axis=1)\n",
        "\n",
        "  # Извлечение Zero Crossing Rate\n",
        "  zcr = librosa.feature.zero_crossing_rate(audio)\n",
        "  zcr_mean = np.mean(zcr)\n",
        "\n",
        "  # Извлечение спектральной ширины\n",
        "  spectral_bandwidth = librosa.feature.spectral_bandwidth(y=audio, sr=sr)\n",
        "  spectral_bandwidth_mean = np.mean(spectral_bandwidth)\n",
        "\n",
        "  # Извлечение спектрального центроида\n",
        "  spectral_centroid = librosa.feature.spectral_centroid(y=audio, sr=sr)\n",
        "  spectral_centroid_mean = np.mean(spectral_centroid)\n",
        "\n",
        "  # Извлечение RMS\n",
        "  rms = librosa.feature.rms(y=audio)\n",
        "  rms_mean = np.mean(rms)\n",
        "\n",
        "  # Собираем все признаки в один массив\n",
        "  features = np.hstack((mfccs_mean, zcr_mean, spectral_bandwidth_mean, spectral_centroid_mean, rms_mean))\n",
        "\n",
        "  x_test.append(features)\n",
        "  x_test = np.array(x_test)\n",
        "  # Нормализация признаков\n",
        "  x_test_scaled = scaler.transform(x_test)\n",
        "\n",
        "  return x_test_scaled"
      ],
      "metadata": {
        "id": "9Iw1j4eQf7JH"
      },
      "execution_count": null,
      "outputs": []
    },
    {
      "cell_type": "code",
      "source": [
        "# Общая функция для обработки аудио в виде аудиопотока\n",
        "def predict_from_audio_stream(model, labels_list, scaler, label_mode=3):\n",
        "    # режимы определения команд:\n",
        "    if label_mode == 1:\n",
        "        valid_labels = ['hadgime']\n",
        "    elif label_mode == 2:\n",
        "        valid_labels = ['hadgime', 'naure']\n",
        "    elif label_mode == 3:\n",
        "        valid_labels = labels_list  # Все команды\n",
        "\n",
        "    # Словарь с порогами уверенности для каждой команды\n",
        "    confidence_thresholds = {\n",
        "        'hadgime': 0.9,\n",
        "        'kiai': 0.9,\n",
        "        'kato1': 0.5,\n",
        "        'kato2': 0.97,\n",
        "        'kato3': 0.95,\n",
        "        'kato4': 0.89,\n",
        "        'naure': 0.92,\n",
        "        'oss': 0.89\n",
        "    }\n",
        "\n",
        "    RATE = 22050  # Целевая частота дискретизации, на которой обучалась модель\n",
        "    CHUNK_DURATION = 0.25  # длительность кусочка в секундах\n",
        "    BUFFER_DURATION = 1  # длительность буфера в секундах\n",
        "    BUFFER_SIZE = int(RATE * BUFFER_DURATION)  # размер буфера в сэмплах\n",
        "    CHUNK_SIZE = int(RATE * CHUNK_DURATION)  # размер кусочка в сэмплах\n",
        "    TIME_TO_STOP_STREAM = 36 # время для проверки команды naure, для остановки аудиопотока\n",
        "\n",
        "    # Список для записи предсказаний\n",
        "    predict_list = []\n",
        "    predict_data = {'timestamp stop': 0, 'predict': 0}\n",
        "    predict_list.append(predict_data)\n",
        "\n",
        "    # Создание пустого буфера\n",
        "    buffer = np.zeros(BUFFER_SIZE, dtype=np.float32)\n",
        "    total_samples = 0 # счетчик обработанных сэмплов\n",
        "\n",
        "    # функция обработки аудиопотока\n",
        "    def callback(indata, frames, time, status):\n",
        "        nonlocal total_samples\n",
        "        # вывод информации об ошибке аудиопотока\n",
        "        if status:\n",
        "            print(f\"Error: {status}\")\n",
        "\n",
        "        # Обновление буфера\n",
        "        buffer[:-frames] = buffer[frames:]\n",
        "        buffer[-frames:] = indata\n",
        "\n",
        "        total_samples += frames # Общее кол-во обработанных семплов\n",
        "\n",
        "        if total_samples >= BUFFER_SIZE:  # Начать обработку после заполнения буфера\n",
        "\n",
        "          # Извлекаем аудио признаки через librosa\n",
        "          x_test_scaled = extract_features_librosa(buffer, RATE, scaler)\n",
        "\n",
        "          # Получаем предсказание модели\n",
        "          y_pred, predicted_class_confidence = model_predict(x_test_scaled, labels_list, model)\n",
        "          if y_pred in valid_labels and predicted_class_confidence > confidence_thresholds[y_pred]:\n",
        "\n",
        "            # Замеряем метку времени\n",
        "            timestamp = round((total_samples / RATE), 2)\n",
        "            timestamp_start = timestamp - BUFFER_DURATION\n",
        "            # Предполагается, что видео 30 кадров в секунду\n",
        "            frame = int(round((timestamp * 30), 0))\n",
        "            frame_start = frame - BUFFER_DURATION * 30\n",
        "\n",
        "            # Добавляем предикт в список\n",
        "            if ((y_pred != predict_list[-1]['predict'])\n",
        "             or ((y_pred == predict_list[-1]['predict']) and (timestamp - predict_list[-1]['timestamp stop'] > 2.5))\n",
        "             ):\n",
        "              predict_data = {'timestamp start':timestamp_start,\n",
        "                              'timestamp stop': timestamp,\n",
        "                              'frame start': frame_start,\n",
        "                              'frame stop': frame,\n",
        "                              'predict': y_pred,\n",
        "                              'confidence': predicted_class_confidence,\n",
        "                              }\n",
        "              predict_list.append(predict_data)\n",
        "\n",
        "              # Вывод результата\n",
        "              print(f\"Время: {timestamp_start:.2f} - {timestamp:.2f} секунд, Номер кадра: {frame_start} - {frame}, Предсказание: {y_pred}, Confidence: {predicted_class_confidence * 100:.2f}%\")\n",
        "\n",
        "              if ((label_mode != 1) and (timestamp > TIME_TO_STOP_STREAM) and (y_pred == 'naure')):\n",
        "                print('Прозвучала команда \"naure\", выступление спортсмена закончено, прекращаю анализ аудио')\n",
        "                raise sd.CallbackStop\n",
        "\n",
        "    # Запуск аудиопотока с моноканалом, частотой дискретизации 22050, float32 (для извлечения признаков через librosa)\n",
        "    with sd.InputStream(callback=callback, channels=1, samplerate=RATE, blocksize=CHUNK_SIZE, dtype='float32'):\n",
        "        print(\"Listening, press Ctrl+C to stop.\")\n",
        "        try:\n",
        "            while True:\n",
        "                sd.sleep(TIME_TO_STOP_STREAM * 1000)  # Ожидаем 36 секунд или до остановки потока\n",
        "        except KeyboardInterrupt:\n",
        "            print(\"Stream stopped by user.\")\n",
        "        except sd.CallbackStop:\n",
        "            print(\"Stream stopped by callback condition.\")\n",
        "\n",
        "    return predict_list[1:]"
      ],
      "metadata": {
        "id": "50dcrECvl8PH"
      },
      "execution_count": null,
      "outputs": []
    },
    {
      "cell_type": "markdown",
      "source": [
        "## Обработка аудио из файла:"
      ],
      "metadata": {
        "id": "cjidHZ_MwfXU"
      }
    },
    {
      "cell_type": "code",
      "source": [
        "# Общая функция для обработки аудио из файла\n",
        "def predict_from_audio_librosa(audio_path, model, labels_list, scaler, label_mode=3, save_audio=False):\n",
        "    # режимы определения команд:\n",
        "    if label_mode == 1:\n",
        "        valid_labels = ['hadgime']\n",
        "    elif label_mode == 2:\n",
        "        valid_labels = ['hadgime', 'naure']\n",
        "    elif label_mode == 3:\n",
        "        valid_labels = labels_list  # Все команды\n",
        "\n",
        "    # Словарь с порогами уверенности для каждой команды\n",
        "    confidence_thresholds = {\n",
        "        'hadgime': 0.9,\n",
        "        'kiai': 0.9,\n",
        "        'kato1': 0.5,\n",
        "        'kato2': 0.97,\n",
        "        'kato3': 0.95,\n",
        "        'kato4': 0.89,\n",
        "        'naure': 0.9,\n",
        "        'oss': 0.89\n",
        "    }\n",
        "\n",
        "    RATE = 22050  # Целевая частота дискретизации, на которой обучалась модель\n",
        "    CHUNK_DURATION = 0.25  # длительность кусочка в секундах\n",
        "    BUFFER_DURATION = 1  # длительность буфера в секундах\n",
        "    BUFFER_SIZE = int(RATE * BUFFER_DURATION)  # размер буфера в сэмплах\n",
        "    CHUNK_SIZE = int(RATE * CHUNK_DURATION)  # размер кусочка в сэмплах\n",
        "    TIME_TO_STOP_STREAM = 36 # время для проверки команды naure, для остановки аудиопотока\n",
        "\n",
        "    # Список для записи предсказаний\n",
        "    predict_list = []\n",
        "    predict_data = {'timestamp stop': 0, 'predict': 0}\n",
        "    predict_list.append(predict_data)\n",
        "\n",
        "    # Загрузка аудио файла\n",
        "    audio, _ = librosa.load(audio_path, sr=RATE)\n",
        "\n",
        "    # Обработка аудио файла кусочками\n",
        "    for start in range(0, len(audio) - BUFFER_SIZE + 1, CHUNK_SIZE):\n",
        "        buffer = audio[start:start + BUFFER_SIZE]\n",
        "\n",
        "        # Извлекаем аудио признаки через librosa\n",
        "        x_test_scaled = extract_features_librosa(buffer, RATE, scaler)\n",
        "\n",
        "        # Получаем предсказание модели\n",
        "        y_pred, predicted_class_confidence = model_predict(x_test_scaled, labels_list, model)\n",
        "        if y_pred in valid_labels and predicted_class_confidence > confidence_thresholds[y_pred]:\n",
        "\n",
        "          # Замеряем метку времени\n",
        "          timestamp_start = round((start / RATE), 2)\n",
        "          timestamp_stop = timestamp_start + BUFFER_DURATION\n",
        "          frame_start = int(round((timestamp_start * 30), 0))\n",
        "          frame_stop = frame_start + BUFFER_DURATION * 30\n",
        "\n",
        "          # Добавляем предикт в список\n",
        "          if ((y_pred != predict_list[-1]['predict'])\n",
        "           or ((y_pred == predict_list[-1]['predict']) and (timestamp_stop - predict_list[-1]['timestamp stop'] > 2.5))\n",
        "           ):\n",
        "            predict_data = {'timestamp start':timestamp_start,\n",
        "                            'timestamp stop': timestamp_stop,\n",
        "                            'frame start': frame_start,\n",
        "                            'frame stop': frame_stop,\n",
        "                            'predict': y_pred,\n",
        "                            'confidence': predicted_class_confidence,\n",
        "                            }\n",
        "            predict_list.append(predict_data)\n",
        "\n",
        "            # Вывод результата\n",
        "            print(f\"Время: {timestamp_start:.2f} - {timestamp_stop:.2f} секунд, Номер кадра: {frame_start} - {frame_stop}, Предсказание: {y_pred}, Confidence: {predicted_class_confidence * 100:.2f}%\")\n",
        "\n",
        "            if save_audio == True:\n",
        "              # Сохранение куска аудио для анализа работы модели\n",
        "              audio_name = os.path.basename(audio_path)[:-4]\n",
        "              os.makedirs(f'/content/predicted_audio/{audio_name}', exist_ok=True)\n",
        "              sf.write(f'/content/predicted_audio/{audio_name}/{timestamp_stop}_{y_pred}.wav', buffer, RATE)\n",
        "\n",
        "            if ((label_mode != 1) and (timestamp_stop > TIME_TO_STOP_STREAM) and (y_pred == 'naure')):\n",
        "              print('Прозвучала команда \"naure\", выступление спортсмена закончено, прекращаю анализ аудио')\n",
        "              break\n",
        "\n",
        "    return predict_list[1:]"
      ],
      "metadata": {
        "id": "2WeIEyEdfJEq"
      },
      "execution_count": null,
      "outputs": []
    },
    {
      "cell_type": "markdown",
      "metadata": {
        "id": "TMQ_LkdcEySy"
      },
      "source": [
        "##Проверим работу модели на 4 аудио от заказчика:"
      ]
    },
    {
      "cell_type": "code",
      "source": [
        "# Обрабатываем 4 тестовых аудио\n",
        "test_dir = '/content/drive/MyDrive/Стажировка \"Кёкусинкай\"/datasets/test'\n",
        "\n",
        "for audio_name in os.scandir(test_dir):\n",
        "  if audio_name.is_file() and audio_name.name.endswith('.wav'):\n",
        "    audio_file_path = os.path.join(test_dir, audio_name)\n",
        "    timestamps_folder_path = os.path.join(test_dir, 'timestamps')\n",
        "    timestamps_path = os.path.join(timestamps_folder_path, f'{audio_name.name[:-4]}.txt')\n",
        "    with open (timestamps_path, 'r') as f:\n",
        "      timestamps = f.read()\n",
        "    print(audio_name.name)\n",
        "    print('Метки:')\n",
        "    print(timestamps)\n",
        "    print('Предсказания модели:')\n",
        "    predict_list = predict_from_audio_librosa(audio_file_path, model, labels_list, scaler, label_mode=3, save_audio=True)\n",
        "    print()"
      ],
      "metadata": {
        "colab": {
          "base_uri": "https://localhost:8080/"
        },
        "id": "vzhwexMEvNQI",
        "outputId": "a1a242c0-b3c0-41e9-e9a9-ae161bfb9b7d"
      },
      "execution_count": null,
      "outputs": [
        {
          "output_type": "stream",
          "name": "stdout",
          "text": [
            "20240209_181457.wav\n",
            "Метки:\n",
            "5.683204\t6.392208\toss\n",
            "9.378961\t10.026556\toss\n",
            "10.601575\t11.653243\tkato1\n",
            "16.611398\t17.393018\thadgime\n",
            "24.968415\t25.990837\tkia\n",
            "33.747823\t34.679451\tkia\n",
            "40.090590\t41.189003\tnaure\n",
            "\n",
            "Предсказания модели:\n",
            "Время: 5.00 - 6.00 секунд, Номер кадра: 150 - 180, Предсказание: oss, Confidence: 100.00%\n",
            "Время: 8.75 - 9.75 секунд, Номер кадра: 262 - 292, Предсказание: oss, Confidence: 100.00%\n",
            "Время: 10.50 - 11.50 секунд, Номер кадра: 315 - 345, Предсказание: kato1, Confidence: 63.36%\n",
            "Время: 11.75 - 12.75 секунд, Номер кадра: 352 - 382, Предсказание: kato2, Confidence: 99.13%\n",
            "Время: 15.75 - 16.75 секунд, Номер кадра: 472 - 502, Предсказание: hadgime, Confidence: 99.97%\n",
            "Время: 24.25 - 25.25 секунд, Номер кадра: 728 - 758, Предсказание: kiai, Confidence: 100.00%\n",
            "Время: 33.00 - 34.00 секунд, Номер кадра: 990 - 1020, Предсказание: kiai, Confidence: 100.00%\n",
            "Время: 39.75 - 40.75 секунд, Номер кадра: 1192 - 1222, Предсказание: naure, Confidence: 92.80%\n",
            "Прозвучала команда \"naure\", выступление спортсмена закончено, прекращаю анализ аудио\n",
            "\n",
            "20240209_181853.wav\n",
            "Метки:\n",
            "2.940655\t3.432403\toss\n",
            "5.242036\t5.832134\toss\n",
            "6.212055\t7.348135\tkato4\n",
            "10.258177\t11.039797\thadgime\n",
            "20.065830\t21.055321\tkia\n",
            "29.758148\t30.888437\tkia\n",
            "36.621348\t37.595769\tnaure\n",
            "\n",
            "Предсказания модели:\n",
            "Время: 2.25 - 3.25 секунд, Номер кадра: 68 - 98, Предсказание: oss, Confidence: 97.04%\n",
            "Время: 5.00 - 6.00 секунд, Номер кадра: 150 - 180, Предсказание: oss, Confidence: 99.86%\n",
            "Время: 6.25 - 7.25 секунд, Номер кадра: 188 - 218, Предсказание: kato4, Confidence: 98.15%\n",
            "Время: 9.75 - 10.75 секунд, Номер кадра: 292 - 322, Предсказание: hadgime, Confidence: 91.61%\n",
            "Время: 19.25 - 20.25 секунд, Номер кадра: 578 - 608, Предсказание: kiai, Confidence: 99.80%\n",
            "Время: 25.25 - 26.25 секунд, Номер кадра: 758 - 788, Предсказание: kato2, Confidence: 97.66%\n",
            "Время: 29.00 - 30.00 секунд, Номер кадра: 870 - 900, Предсказание: kiai, Confidence: 100.00%\n",
            "Время: 36.50 - 37.50 секунд, Номер кадра: 1095 - 1125, Предсказание: naure, Confidence: 95.03%\n",
            "Прозвучала команда \"naure\", выступление спортсмена закончено, прекращаю анализ аудио\n",
            "\n",
            "20240209_181632.wav\n",
            "Метки:\n",
            "3.757333\t4.535777\toss\n",
            "6.499780\t7.172268\toss\n",
            "7.186337\t8.322417\tkato2\n",
            "11.364684\t12.146304\thadgime\n",
            "20.395598\t21.465065\tkia\n",
            "30.389914\t31.203845\tkia\n",
            "36.954776\t37.866142\tnaure\n",
            "\n",
            "Предсказания модели:\n",
            "Время: 3.25 - 4.25 секунд, Номер кадра: 98 - 128, Предсказание: oss, Confidence: 99.99%\n",
            "Время: 6.00 - 7.00 секунд, Номер кадра: 180 - 210, Предсказание: oss, Confidence: 100.00%\n",
            "Время: 7.25 - 8.25 секунд, Номер кадра: 218 - 248, Предсказание: kato2, Confidence: 97.17%\n",
            "Время: 10.50 - 11.50 секунд, Номер кадра: 315 - 345, Предсказание: hadgime, Confidence: 94.66%\n",
            "Время: 19.75 - 20.75 секунд, Номер кадра: 592 - 622, Предсказание: kiai, Confidence: 100.00%\n",
            "Время: 30.50 - 31.50 секунд, Номер кадра: 915 - 945, Предсказание: kiai, Confidence: 95.55%\n",
            "Время: 31.75 - 32.75 секунд, Номер кадра: 952 - 982, Предсказание: kato2, Confidence: 98.16%\n",
            "Время: 36.25 - 37.25 секунд, Номер кадра: 1088 - 1118, Предсказание: naure, Confidence: 90.58%\n",
            "Прозвучала команда \"naure\", выступление спортсмена закончено, прекращаю анализ аудио\n",
            "\n",
            "20240209_181745.wav\n",
            "Метки:\n",
            "4.054910\t4.833354\toss\n",
            "6.753474\t7.425962\toss\n",
            "7.819273\t9.104614\tkato3\n",
            "12.634983\t13.592688\thadgime\n",
            "21.283945\t22.353412\tkia\n",
            "30.570727\t31.704593\tkia\n",
            "36.680956\t37.281620\tnaure\n",
            "\n",
            "Предсказания модели:\n",
            "Время: 3.25 - 4.25 секунд, Номер кадра: 98 - 128, Предсказание: oss, Confidence: 89.84%\n",
            "Время: 6.00 - 7.00 секунд, Номер кадра: 180 - 210, Предсказание: oss, Confidence: 90.75%\n",
            "Время: 8.00 - 9.00 секунд, Номер кадра: 240 - 270, Предсказание: kato3, Confidence: 96.80%\n",
            "Время: 12.00 - 13.00 секунд, Номер кадра: 360 - 390, Предсказание: hadgime, Confidence: 98.93%\n",
            "Время: 20.50 - 21.50 секунд, Номер кадра: 615 - 645, Предсказание: kiai, Confidence: 99.89%\n",
            "Время: 22.25 - 23.25 секунд, Номер кадра: 668 - 698, Предсказание: naure, Confidence: 93.92%\n",
            "Время: 30.00 - 31.00 секунд, Номер кадра: 900 - 930, Предсказание: kiai, Confidence: 100.00%\n",
            "Время: 35.75 - 36.75 секунд, Номер кадра: 1072 - 1102, Предсказание: naure, Confidence: 95.20%\n",
            "Прозвучала команда \"naure\", выступление спортсмена закончено, прекращаю анализ аудио\n",
            "\n"
          ]
        }
      ]
    },
    {
      "cell_type": "code",
      "source": [
        "# Пример вывода списка предсказаний\n",
        "predict_list"
      ],
      "metadata": {
        "colab": {
          "base_uri": "https://localhost:8080/"
        },
        "id": "CeA3yHyypIQe",
        "outputId": "3ea16752-1884-4428-ea98-2358223bdcac"
      },
      "execution_count": null,
      "outputs": [
        {
          "output_type": "execute_result",
          "data": {
            "text/plain": [
              "[{'timestamp start': 3.25,\n",
              "  'timestamp stop': 4.25,\n",
              "  'frame start': 98,\n",
              "  'frame stop': 128,\n",
              "  'predict': 'oss',\n",
              "  'confidence': 0.89838886},\n",
              " {'timestamp start': 6.0,\n",
              "  'timestamp stop': 7.0,\n",
              "  'frame start': 180,\n",
              "  'frame stop': 210,\n",
              "  'predict': 'oss',\n",
              "  'confidence': 0.9074996},\n",
              " {'timestamp start': 8.0,\n",
              "  'timestamp stop': 9.0,\n",
              "  'frame start': 240,\n",
              "  'frame stop': 270,\n",
              "  'predict': 'kato3',\n",
              "  'confidence': 0.96803755},\n",
              " {'timestamp start': 12.0,\n",
              "  'timestamp stop': 13.0,\n",
              "  'frame start': 360,\n",
              "  'frame stop': 390,\n",
              "  'predict': 'hadgime',\n",
              "  'confidence': 0.9893026},\n",
              " {'timestamp start': 20.5,\n",
              "  'timestamp stop': 21.5,\n",
              "  'frame start': 615,\n",
              "  'frame stop': 645,\n",
              "  'predict': 'kiai',\n",
              "  'confidence': 0.99889994},\n",
              " {'timestamp start': 22.25,\n",
              "  'timestamp stop': 23.25,\n",
              "  'frame start': 668,\n",
              "  'frame stop': 698,\n",
              "  'predict': 'naure',\n",
              "  'confidence': 0.93915033},\n",
              " {'timestamp start': 30.0,\n",
              "  'timestamp stop': 31.0,\n",
              "  'frame start': 900,\n",
              "  'frame stop': 930,\n",
              "  'predict': 'kiai',\n",
              "  'confidence': 0.99998844},\n",
              " {'timestamp start': 35.75,\n",
              "  'timestamp stop': 36.75,\n",
              "  'frame start': 1072,\n",
              "  'frame stop': 1102,\n",
              "  'predict': 'naure',\n",
              "  'confidence': 0.9520092}]"
            ]
          },
          "metadata": {},
          "execution_count": 27
        }
      ]
    }
  ]
}